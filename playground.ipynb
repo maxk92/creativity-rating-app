{
 "cells": [
  {
   "cell_type": "code",
   "execution_count": 7,
   "id": "7384bb25",
   "metadata": {},
   "outputs": [],
   "source": [
    "import os\n",
    "import pandas as pd\n",
    "import random"
   ]
  },
  {
   "cell_type": "code",
   "execution_count": 8,
   "id": "aff40589",
   "metadata": {},
   "outputs": [],
   "source": [
    "class VideoPlayerScreen():\n",
    "    def __init__(self, **kwargs):\n",
    "        super().__init__(**kwargs)\n",
    "        self.index = 0\n",
    "\n",
    "        # Load metadata from CSV\n",
    "        self.path_metadata = '/home/max/drive/coding/projects/13___creativity/lsa-creativity/data/df_actions/'\n",
    "        self.ls_matches  = [match.split('.')[0] for match in os.listdir(self.path_metadata)]\n",
    "        self.metadata = pd.concat([pd.read_csv(self.path_metadata + actions_df+'.csv') for actions_df in self.ls_matches])\n",
    "        self.path_videos = '/media/max/Elements/Sebastian_Spiele/Bundesliga/'\n",
    "\n",
    "        self.videos = [\n",
    "            os.path.join(self.path_videos, folder, file)\n",
    "            for folder in self.ls_matches\n",
    "            for file in os.listdir(os.path.join(self.path_videos, folder))\n",
    "            if file.endswith('.mp4')\n",
    "        ]\n",
    "\n",
    "        random.seed(42)\n",
    "        random.shuffle(self.videos)"
   ]
  },
  {
   "cell_type": "code",
   "execution_count": 9,
   "id": "dc366b16",
   "metadata": {},
   "outputs": [],
   "source": [
    "vid = VideoPlayerScreen()"
   ]
  },
  {
   "cell_type": "code",
   "execution_count": 15,
   "id": "2685f5f4",
   "metadata": {},
   "outputs": [
    {
     "data": {
      "text/plain": [
       "'470f27b3-b1e9-43f1-9dc7-7c1dbf9f1d33'"
      ]
     },
     "execution_count": 15,
     "metadata": {},
     "output_type": "execute_result"
    }
   ],
   "source": [
    "vid.videos[0].split('/')[-1].replace('.mp4', '')  # Display the name of the first video"
   ]
  },
  {
   "cell_type": "code",
   "execution_count": null,
   "id": "d724af16",
   "metadata": {},
   "outputs": [],
   "source": []
  }
 ],
 "metadata": {
  "kernelspec": {
   "display_name": "kivyCreativityEnv (3.10.12)",
   "language": "python",
   "name": "python3"
  },
  "language_info": {
   "codemirror_mode": {
    "name": "ipython",
    "version": 3
   },
   "file_extension": ".py",
   "mimetype": "text/x-python",
   "name": "python",
   "nbconvert_exporter": "python",
   "pygments_lexer": "ipython3",
   "version": "3.10.12"
  }
 },
 "nbformat": 4,
 "nbformat_minor": 5
}
